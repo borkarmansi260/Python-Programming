{
 "cells": [
  {
   "cell_type": "markdown",
   "metadata": {},
   "source": [
    "# HW 1 (Due 2/13/2020, 11:55pm)"
   ]
  },
  {
   "cell_type": "markdown",
   "metadata": {},
   "source": [
    "<font color=red>Using the `ISDS558-2020Sp-HW1.ipynb` file, answer the questions below by completing \n",
    "the code for each question and save the notebook file as “firstName_lastName_ISDS558-2020Sp-HW1.ipynb”. \n",
    "(note: firstName and lastName are your first and last names). \n",
    "Then upload the competed notebook file on the course website by following the HW1 submission link.\n",
    "</font>"
   ]
  },
  {
   "cell_type": "markdown",
   "metadata": {},
   "source": [
    "## Q1. Password verification\n",
    "Write a program that asks the user to type the access code. \n",
    "If the access code you type is identical to the password 'Titans', \n",
    "then output `Correct access code.`. Otherwise, \n",
    "output `Incorrect access code.` and ask the user to type the access code again. \n",
    "If the user enters incorrect access code three times, do not allow the user \n",
    "to type the access code and output `You reached the max number of attempts!`"
   ]
  },
  {
   "cell_type": "code",
   "execution_count": 2,
   "metadata": {},
   "outputs": [
    {
     "name": "stdout",
     "output_type": "stream",
     "text": [
      "Please enter the access code:Tuffy\n",
      "Incorrect access code.\n",
      "Please enter the access code:tiggy\n",
      "Incorrect access code.\n",
      "Please enter the access code:tuggy\n",
      "Incorrect access code.\n",
      "You have reached the max number of attempts!\n"
     ]
    }
   ],
   "source": [
    "password = 'Titans'\n",
    "trial = 3\n",
    "while trial > 0 :\n",
    "  access_code = input('Please enter the access code:')\n",
    "\n",
    "  if access_code == password:\n",
    "    print('Correct access code.')\n",
    "    trial = -1\n",
    "  \n",
    "  else:\n",
    "    print('Incorrect access code.')\n",
    "    trial = trial - 1\n",
    "\n",
    "if trial == 0 :\n",
    "    \n",
    "  print('You have reached the max number of attempts!')\n",
    "\n",
    "\n"
   ]
  },
  {
   "cell_type": "markdown",
   "metadata": {},
   "source": [
    "## Q2. Blood Pressure Checker\n",
    "\n",
    "Write a program that asks for the user's systolic and diastolic \n",
    "blood pressure, and output one of `LOW`, `IDEAL`, `PRE-HIGH` or \n",
    "`HIGH` according to the following chart. \n",
    "\n",
    "![Blood pressure chart](blood_chart.png)\n",
    "\n",
    "Note: If you cannot see the chart above, please download the picture `blood_chart.png` from \n",
    "the course website (Week 03/images/blood_chart.png) and save the picture in the same folder \n",
    "as your notebook `ISDS558-2020Sp-HW1.ipynb`."
   ]
  },
  {
   "cell_type": "code",
   "execution_count": 2,
   "metadata": {},
   "outputs": [
    {
     "name": "stdout",
     "output_type": "stream",
     "text": [
      "Enter the systolic blood pressure:150\n",
      "Enter the diastolic blood pressure:100\n",
      "Blood pressure is High Blood Pressure\n"
     ]
    }
   ],
   "source": [
    "flag=-1\n",
    "while flag==-1:\n",
    " systolic = input('Enter the systolic blood pressure:')\n",
    " \n",
    " try:\n",
    "    systolic = int(systolic)\n",
    "    if(systolic < 70 or systolic > 190):\n",
    "     print('Invalid Systolic Blood Pressure value. Enter valid value.')\n",
    "    else:\n",
    "     flag = 0\n",
    " except:\n",
    "    print(\"Oops!  That was no valid number.  Try again...\")\n",
    "\n",
    "flag=-1\n",
    "while flag==-1:\n",
    " diastolic=input(\"Enter the diastolic blood pressure:\")\n",
    " \n",
    " try:\n",
    "    diastolic=int(diastolic)\n",
    "    if(diastolic < 40 or diastolic > 100):\n",
    "     print('Invalid Diastolic Blood Pressure value. Enter valid value.')\n",
    "    else: \n",
    "     flag=0\n",
    " except:\n",
    "      print(\"Oops!  That was no valid number.  Try again...\")\n",
    "\n",
    "if systolic>=70 and systolic<=90:\n",
    " if diastolic>=40 and diastolic<=60:\n",
    "    print(\"Blood pressure is LOW\")\n",
    "if systolic>90 and systolic<=120:\n",
    " if diastolic>60 and diastolic<=80:\n",
    "    print(\"Blood pressure is Ideal Blood Pressure\")\n",
    "if systolic>120 and systolic<=140:\n",
    " if diastolic>80 and diastolic<=90:\n",
    "    print(\"Blood pressure is Pre-High Blood Pressure\")\n",
    "if systolic>=140 and systolic<=190:\n",
    " if diastolic>90 and diastolic<=100:\n",
    "    print(\"Blood pressure is High Blood Pressure\")\n",
    "\n",
    " \n"
   ]
  },
  {
   "cell_type": "markdown",
   "metadata": {},
   "source": [
    "## Q3. Blood Sugar Checker\n",
    "\n",
    "Write a program that asks the user how many hours they have fasted and their current blood sugar level. \n",
    "If they have fasted less than 2 hours, then output `You need to fast at least 2 hours to perform this test.` \n",
    "If they fasted at least 2 hours but less than 8 hours, then \n",
    "output `Your blood sugar level is high` if it is more than 140, and `Your blood sugar level is normal` \n",
    "otherwise. If they have fasted for at least 8 hours, then the threshold changes to 100 (instead of 140)."
   ]
  },
  {
   "cell_type": "code",
   "execution_count": 1,
   "metadata": {},
   "outputs": [
    {
     "name": "stdout",
     "output_type": "stream",
     "text": [
      "Enter Blood Sugar Level: 100\n",
      "Enter number of hours fasted: 7\n",
      "Your blood sugar level is normal.\n"
     ]
    }
   ],
   "source": [
    "flag = -1\n",
    "while flag == -1:\n",
    "  Sugar_level = input('Enter Blood Sugar Level: ')\n",
    "  try:\n",
    "    Sugar_level = int(Sugar_level)\n",
    "    flag = 0\n",
    "  except:\n",
    "    print('Enter appropriate numerical value for Blood Sugar Level.')\n",
    "\n",
    "flag = -1\n",
    "while flag == -1:\n",
    "  Hrs = input('Enter number of hours fasted: ')\n",
    "  try:\n",
    "    Hrs = int(Hrs)\n",
    "    flag = 0\n",
    "  except:\n",
    "    print('Enter appropriate numerical value for hours fasted.')\n",
    "\n",
    "\n",
    "\n",
    "if Hrs < 2:\n",
    "  print('You need to fast at least 2 hours to perform this test.')\n",
    "\n",
    "\n",
    "\n",
    "if Hrs >= 2 and Hrs < 8:\n",
    "  \n",
    "  if Sugar_level > 140:\n",
    "    print('Your blood sugar level is high!')\n",
    "  else:\n",
    "    print('Your blood sugar level is normal.')\n",
    "\n",
    "\n",
    "\n",
    "if Hrs >= 8:\n",
    "  \n",
    "  if Sugar_level > 100:\n",
    "    print('Your blood sugar level is high!')\n",
    "  else:\n",
    "    print('Your blood sugar level is normal.')"
   ]
  },
  {
   "cell_type": "code",
   "execution_count": null,
   "metadata": {},
   "outputs": [],
   "source": []
  }
 ],
 "metadata": {
  "kernelspec": {
   "display_name": "Python 3",
   "language": "python",
   "name": "python3"
  },
  "language_info": {
   "codemirror_mode": {
    "name": "ipython",
    "version": 3
   },
   "file_extension": ".py",
   "mimetype": "text/x-python",
   "name": "python",
   "nbconvert_exporter": "python",
   "pygments_lexer": "ipython3",
   "version": "3.7.6"
  }
 },
 "nbformat": 4,
 "nbformat_minor": 2
}
